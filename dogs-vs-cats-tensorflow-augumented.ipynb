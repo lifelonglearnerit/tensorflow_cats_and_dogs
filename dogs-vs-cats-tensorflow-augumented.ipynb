{
 "cells": [
  {
   "cell_type": "code",
   "execution_count": 1,
   "id": "0677f79b",
   "metadata": {
    "_cell_guid": "b1076dfc-b9ad-4769-8c92-a6c4dae69d19",
    "_uuid": "8f2839f25d086af736a60e9eeb907d3b93b6e0e5",
    "execution": {
     "iopub.execute_input": "2022-02-19T20:32:16.390247Z",
     "iopub.status.busy": "2022-02-19T20:32:16.388753Z",
     "iopub.status.idle": "2022-02-19T20:32:47.931950Z",
     "shell.execute_reply": "2022-02-19T20:32:47.932435Z",
     "shell.execute_reply.started": "2022-02-19T07:27:26.582148Z"
    },
    "papermill": {
     "duration": 31.558417,
     "end_time": "2022-02-19T20:32:47.932684",
     "exception": false,
     "start_time": "2022-02-19T20:32:16.374267",
     "status": "completed"
    },
    "tags": []
   },
   "outputs": [
    {
     "name": "stdout",
     "output_type": "stream",
     "text": [
      "Collecting celluloid\r\n",
      "  Downloading celluloid-0.2.0-py3-none-any.whl (5.4 kB)\r\n",
      "Requirement already satisfied: matplotlib in /opt/conda/lib/python3.7/site-packages (from celluloid) (3.5.1)\r\n",
      "Requirement already satisfied: fonttools>=4.22.0 in /opt/conda/lib/python3.7/site-packages (from matplotlib->celluloid) (4.28.4)\r\n",
      "Requirement already satisfied: cycler>=0.10 in /opt/conda/lib/python3.7/site-packages (from matplotlib->celluloid) (0.11.0)\r\n",
      "Requirement already satisfied: kiwisolver>=1.0.1 in /opt/conda/lib/python3.7/site-packages (from matplotlib->celluloid) (1.3.2)\r\n",
      "Requirement already satisfied: python-dateutil>=2.7 in /opt/conda/lib/python3.7/site-packages (from matplotlib->celluloid) (2.8.0)\r\n",
      "Requirement already satisfied: packaging>=20.0 in /opt/conda/lib/python3.7/site-packages (from matplotlib->celluloid) (21.3)\r\n",
      "Requirement already satisfied: pillow>=6.2.0 in /opt/conda/lib/python3.7/site-packages (from matplotlib->celluloid) (8.2.0)\r\n",
      "Requirement already satisfied: pyparsing>=2.2.1 in /opt/conda/lib/python3.7/site-packages (from matplotlib->celluloid) (3.0.6)\r\n",
      "Requirement already satisfied: numpy>=1.17 in /opt/conda/lib/python3.7/site-packages (from matplotlib->celluloid) (1.20.3)\r\n",
      "Requirement already satisfied: six>=1.5 in /opt/conda/lib/python3.7/site-packages (from python-dateutil>=2.7->matplotlib->celluloid) (1.16.0)\r\n",
      "Installing collected packages: celluloid\r\n",
      "Successfully installed celluloid-0.2.0\r\n",
      "\u001b[33mWARNING: Running pip as the 'root' user can result in broken permissions and conflicting behaviour with the system package manager. It is recommended to use a virtual environment instead: https://pip.pypa.io/warnings/venv\u001b[0m\r\n",
      "/kaggle/input/dogs-vs-cats/test1.zip\n",
      "/kaggle/input/dogs-vs-cats/train.zip\n",
      "/kaggle/input/dogs-vs-cats/sampleSubmission.csv\n"
     ]
    }
   ],
   "source": [
    "import os\n",
    "import zipfile\n",
    "import random\n",
    "import shutil\n",
    "import numpy as np \n",
    "import pandas as pd \n",
    "import tensorflow as tf\n",
    "\n",
    "import matplotlib.pyplot as plt\n",
    "from matplotlib import animation\n",
    "from IPython.display import HTML\n",
    "!pip install celluloid \n",
    "from celluloid import Camera\n",
    "\n",
    "\n",
    "from tensorflow.keras.preprocessing.image import ImageDataGenerator\n",
    "from shutil import copyfile\n",
    "\n",
    "\n",
    "for dirname, _, filenames in os.walk('/kaggle/input'):\n",
    "    for filename in filenames:\n",
    "        print(os.path.join(dirname, filename))\n",
    "        if 'zip' in os.path.join(dirname, filename):\n",
    "            zip_ref  = zipfile.ZipFile(os.path.join(dirname, filename), 'r')\n",
    "            zip_ref.extractall('/kaggle/working')\n",
    "        zip_ref.close()\n",
    "\n",
    "        \n",
    "source_path_train = '/kaggle/working/train'\n",
    "source_path_test = '/kaggle/working/test1'\n",
    "\n",
    "# creating dogs and cats directories\n",
    "os.makedirs('/kaggle/working/images/dogs')\n",
    "os.makedirs('/kaggle/working/images/cats')\n",
    "\n",
    "os.makedirs('/kaggle/working/cats-v-dogs')\n",
    "\n",
    "images_dogs = '/kaggle/working/images/dogs'\n",
    "images_cats = '/kaggle/working/images/cats'\n",
    "\n",
    "root_dir = '/kaggle/working/cats-v-dogs'\n",
    "\n",
    "data_train_list = os.listdir(source_path_train)\n",
    "cat_jpg_train = [jpg for jpg in data_train_list if 'cat' in jpg]\n",
    "dog_jpg_train = [jpg for jpg in data_train_list if 'dog' in jpg]\n",
    "# ls -R | grep \":$\" | sed -e 's/:$//' -e 's/[^-][^\\/]*\\//--/g' -e 's/^/   /' -e 's/-/|/'"
   ]
  },
  {
   "cell_type": "code",
   "execution_count": 2,
   "id": "25ba7ae7",
   "metadata": {
    "execution": {
     "iopub.execute_input": "2022-02-19T20:32:47.962223Z",
     "iopub.status.busy": "2022-02-19T20:32:47.961451Z",
     "iopub.status.idle": "2022-02-19T20:32:48.606051Z",
     "shell.execute_reply": "2022-02-19T20:32:48.605575Z",
     "shell.execute_reply.started": "2022-02-19T07:27:57.672087Z"
    },
    "papermill": {
     "duration": 0.661767,
     "end_time": "2022-02-19T20:32:48.606187",
     "exception": false,
     "start_time": "2022-02-19T20:32:47.944420",
     "status": "completed"
    },
    "tags": []
   },
   "outputs": [],
   "source": [
    "def move_jpg(photo_names: list, source_path: str, dest_path: str, split_data=0):\n",
    "    \n",
    "    # moving photos to subdirectories cats and dogs\n",
    "    for photo in photo_names:\n",
    "        shutil.move(os.path.join(source_path, photo), os.path.join(dest_path, photo))\n",
    "\n",
    "# moving photos of cats to new directory 'trainig/cats'\n",
    "move_jpg(cat_jpg_train, source_path_train, images_cats )\n",
    "\n",
    "# moving photos of dogs to new subdirectory 'training/dogs'\n",
    "move_jpg(dog_jpg_train, source_path_train, images_dogs )"
   ]
  },
  {
   "cell_type": "code",
   "execution_count": 3,
   "id": "ef90cafb",
   "metadata": {
    "execution": {
     "iopub.execute_input": "2022-02-19T20:32:48.633663Z",
     "iopub.status.busy": "2022-02-19T20:32:48.632872Z",
     "iopub.status.idle": "2022-02-19T20:32:48.655219Z",
     "shell.execute_reply": "2022-02-19T20:32:48.655629Z",
     "shell.execute_reply.started": "2022-02-19T07:27:58.776042Z"
    },
    "papermill": {
     "duration": 0.037907,
     "end_time": "2022-02-19T20:32:48.655758",
     "exception": false,
     "start_time": "2022-02-19T20:32:48.617851",
     "status": "completed"
    },
    "tags": []
   },
   "outputs": [
    {
     "name": "stdout",
     "output_type": "stream",
     "text": [
      "Number of images in train directory: 0\n",
      "Number of images in test directory: 12500\n",
      "Number of images in dogs directory: 12500\n",
      "Number of images in cats directory: 12500\n"
     ]
    }
   ],
   "source": [
    "print(f'Number of images in train directory: {len(os.listdir(source_path_train))}')\n",
    "print(f'Number of images in test directory: {len(os.listdir(source_path_test))}')\n",
    "print(f'Number of images in dogs directory: {len(os.listdir(images_dogs))}')\n",
    "print(f'Number of images in cats directory: {len(os.listdir(images_cats))}')"
   ]
  },
  {
   "cell_type": "code",
   "execution_count": 4,
   "id": "e5e5e9d1",
   "metadata": {
    "execution": {
     "iopub.execute_input": "2022-02-19T20:32:48.685086Z",
     "iopub.status.busy": "2022-02-19T20:32:48.684366Z",
     "iopub.status.idle": "2022-02-19T20:32:48.687725Z",
     "shell.execute_reply": "2022-02-19T20:32:48.687241Z",
     "shell.execute_reply.started": "2022-02-19T07:27:58.807266Z"
    },
    "papermill": {
     "duration": 0.020405,
     "end_time": "2022-02-19T20:32:48.687826",
     "exception": false,
     "start_time": "2022-02-19T20:32:48.667421",
     "status": "completed"
    },
    "tags": []
   },
   "outputs": [],
   "source": [
    "if os.path.exists(root_dir):\n",
    "    shutil.rmtree(root_dir)\n",
    "\n",
    "\n",
    "def create_train_test_dirs(root_path):\n",
    "    training_cats_dir = 'training/cats'\n",
    "    training_dogs_dir = 'training/dogs'\n",
    "\n",
    "    testing_cats_dir = 'testing/cats'\n",
    "    testing_dogs_dir = 'testing/dogs'\n",
    "\n",
    "    directories = [training_cats_dir, \n",
    "                 training_dogs_dir, \n",
    "                 testing_cats_dir, \n",
    "                 testing_dogs_dir]\n",
    "\n",
    "    for dir in directories:\n",
    "        os.makedirs(os.path.join(root_path, dir))\n",
    "\n",
    "try:\n",
    "    create_train_test_dirs(root_path=root_dir)\n",
    "except FileExistsError:\n",
    "    print(\"You should not be seeing this since the upper directory is removed beforehand\")"
   ]
  },
  {
   "cell_type": "code",
   "execution_count": 5,
   "id": "08fcfd15",
   "metadata": {
    "execution": {
     "iopub.execute_input": "2022-02-19T20:32:48.716921Z",
     "iopub.status.busy": "2022-02-19T20:32:48.715561Z",
     "iopub.status.idle": "2022-02-19T20:32:48.720031Z",
     "shell.execute_reply": "2022-02-19T20:32:48.719632Z",
     "shell.execute_reply.started": "2022-02-19T07:27:59.330436Z"
    },
    "papermill": {
     "duration": 0.020585,
     "end_time": "2022-02-19T20:32:48.720133",
     "exception": false,
     "start_time": "2022-02-19T20:32:48.699548",
     "status": "completed"
    },
    "tags": []
   },
   "outputs": [
    {
     "name": "stdout",
     "output_type": "stream",
     "text": [
      "/kaggle/working/cats-v-dogs/testing\n",
      "/kaggle/working/cats-v-dogs/training\n",
      "/kaggle/working/cats-v-dogs/testing/cats\n",
      "/kaggle/working/cats-v-dogs/testing/dogs\n",
      "/kaggle/working/cats-v-dogs/training/cats\n",
      "/kaggle/working/cats-v-dogs/training/dogs\n"
     ]
    }
   ],
   "source": [
    "for rootdir, dirs, files in os.walk(root_dir):\n",
    "    for subdir in dirs:\n",
    "        print(os.path.join(rootdir, subdir))"
   ]
  },
  {
   "cell_type": "code",
   "execution_count": 6,
   "id": "1ffc204d",
   "metadata": {
    "execution": {
     "iopub.execute_input": "2022-02-19T20:32:48.750771Z",
     "iopub.status.busy": "2022-02-19T20:32:48.750059Z",
     "iopub.status.idle": "2022-02-19T20:32:48.752102Z",
     "shell.execute_reply": "2022-02-19T20:32:48.752507Z",
     "shell.execute_reply.started": "2022-02-19T07:27:59.343765Z"
    },
    "papermill": {
     "duration": 0.020488,
     "end_time": "2022-02-19T20:32:48.752628",
     "exception": false,
     "start_time": "2022-02-19T20:32:48.732140",
     "status": "completed"
    },
    "tags": []
   },
   "outputs": [],
   "source": [
    "def split_data(SOURCE, TRAINING, TESTING, SPLIT_SIZE):\n",
    "    source_data_list = os.listdir(SOURCE)\n",
    "\n",
    "    # testing for photos with size 0\n",
    "    for photo in source_data_list:\n",
    "        if os.path.getsize(os.path.join(SOURCE, photo)) == 0:\n",
    "            source_data_list.remove(photo)\n",
    "      \n",
    "    # shuffled list of photos\n",
    "    source_data_list = random.sample(source_data_list, len(source_data_list))\n",
    "\n",
    "    # training \n",
    "    trainig_photos = source_data_list[ :int(len(source_data_list) * SPLIT_SIZE)]\n",
    "\n",
    "    # test \n",
    "    testing_photos = source_data_list[int(len(source_data_list) * SPLIT_SIZE): ]\n",
    "\n",
    "    # copying trainig data \n",
    "    for train_photo in trainig_photos:\n",
    "        shutil.move( os.path.join(SOURCE, train_photo), os.path.join(TRAINING, train_photo) )\n",
    "\n",
    "    # copying test data\n",
    "    for test_photo in testing_photos:\n",
    "        shutil.move( os.path.join(SOURCE, test_photo), os.path.join(TESTING, test_photo) )"
   ]
  },
  {
   "cell_type": "code",
   "execution_count": 7,
   "id": "971dc17b",
   "metadata": {
    "execution": {
     "iopub.execute_input": "2022-02-19T20:32:48.785716Z",
     "iopub.status.busy": "2022-02-19T20:32:48.784526Z",
     "iopub.status.idle": "2022-02-19T20:32:49.722944Z",
     "shell.execute_reply": "2022-02-19T20:32:49.722511Z",
     "shell.execute_reply.started": "2022-02-19T07:27:59.356028Z"
    },
    "papermill": {
     "duration": 0.958504,
     "end_time": "2022-02-19T20:32:49.723063",
     "exception": false,
     "start_time": "2022-02-19T20:32:48.764559",
     "status": "completed"
    },
    "tags": []
   },
   "outputs": [
    {
     "name": "stdout",
     "output_type": "stream",
     "text": [
      "\n",
      "\n",
      "There are 11250 images of cats for training\n",
      "There are 11250 images of dogs for training\n",
      "There are 1250 images of cats for testing\n",
      "There are 1250 images of dogs for testing\n"
     ]
    }
   ],
   "source": [
    "# Define paths\n",
    "CAT_SOURCE_DIR = '/kaggle/working/images/dogs'\n",
    "DOG_SOURCE_DIR = '/kaggle/working/images/cats'\n",
    "\n",
    "TRAINING_DIR = \"/kaggle/working/cats-v-dogs/training/\"\n",
    "TESTING_DIR = \"/kaggle/working/cats-v-dogs/testing/\"\n",
    "\n",
    "TRAINING_CATS_DIR = os.path.join(TRAINING_DIR, \"cats/\")\n",
    "TESTING_CATS_DIR = os.path.join(TESTING_DIR, \"cats/\")\n",
    "\n",
    "TRAINING_DOGS_DIR = os.path.join(TRAINING_DIR, \"dogs/\")\n",
    "TESTING_DOGS_DIR = os.path.join(TESTING_DIR, \"dogs/\")\n",
    "\n",
    "if len(os.listdir(TRAINING_CATS_DIR)) > 0:\n",
    "    for file in os.scandir(TRAINING_CATS_DIR):\n",
    "        os.remove(file.path)\n",
    "if len(os.listdir(TRAINING_DOGS_DIR)) > 0:\n",
    "    for file in os.scandir(TRAINING_DOGS_DIR):\n",
    "        os.remove(file.path)\n",
    "if len(os.listdir(TESTING_CATS_DIR)) > 0:\n",
    "    for file in os.scandir(TESTING_CATS_DIR):\n",
    "        os.remove(file.path)\n",
    "if len(os.listdir(TESTING_DOGS_DIR)) > 0:\n",
    "    for file in os.scandir(TESTING_DOGS_DIR):\n",
    "        os.remove(file.path)\n",
    "\n",
    "\n",
    "split_size = .9\n",
    "\n",
    "split_data(CAT_SOURCE_DIR, TRAINING_CATS_DIR, TESTING_CATS_DIR, split_size)\n",
    "split_data(DOG_SOURCE_DIR, TRAINING_DOGS_DIR, TESTING_DOGS_DIR, split_size)\n",
    "\n",
    "print(f\"\\n\\nThere are {len(os.listdir(TRAINING_CATS_DIR))} images of cats for training\")\n",
    "print(f\"There are {len(os.listdir(TRAINING_DOGS_DIR))} images of dogs for training\")\n",
    "print(f\"There are {len(os.listdir(TESTING_CATS_DIR))} images of cats for testing\")\n",
    "print(f\"There are {len(os.listdir(TESTING_DOGS_DIR))} images of dogs for testing\")"
   ]
  },
  {
   "cell_type": "code",
   "execution_count": 8,
   "id": "9703b2ff",
   "metadata": {
    "execution": {
     "iopub.execute_input": "2022-02-19T20:32:49.752582Z",
     "iopub.status.busy": "2022-02-19T20:32:49.751834Z",
     "iopub.status.idle": "2022-02-19T20:32:49.754457Z",
     "shell.execute_reply": "2022-02-19T20:32:49.754018Z",
     "shell.execute_reply.started": "2022-02-19T07:28:00.249032Z"
    },
    "papermill": {
     "duration": 0.019087,
     "end_time": "2022-02-19T20:32:49.754566",
     "exception": false,
     "start_time": "2022-02-19T20:32:49.735479",
     "status": "completed"
    },
    "tags": []
   },
   "outputs": [],
   "source": [
    "# callback class\n",
    "class myCallbacks(tf.keras.callbacks.Callback):\n",
    "    def on_epoch_end(self, epoch, logs={}):\n",
    "        if(logs.get('accuracy') >= 0.99):\n",
    "            print('\\nReached desired training accuracy of 99%. Training stopped!')\n",
    "            self.model.stop_training = True"
   ]
  },
  {
   "cell_type": "code",
   "execution_count": 9,
   "id": "8713daab",
   "metadata": {
    "execution": {
     "iopub.execute_input": "2022-02-19T20:32:49.790119Z",
     "iopub.status.busy": "2022-02-19T20:32:49.789561Z",
     "iopub.status.idle": "2022-02-19T20:32:49.793159Z",
     "shell.execute_reply": "2022-02-19T20:32:49.792739Z",
     "shell.execute_reply.started": "2022-02-19T13:05:24.080544Z"
    },
    "papermill": {
     "duration": 0.026492,
     "end_time": "2022-02-19T20:32:49.793271",
     "exception": false,
     "start_time": "2022-02-19T20:32:49.766779",
     "status": "completed"
    },
    "tags": []
   },
   "outputs": [],
   "source": [
    "from tensorflow.keras.optimizers import RMSprop\n",
    "from tensorflow.keras.optimizers import Adam\n",
    "\n",
    "def create_model():\n",
    "    \n",
    "    model = tf.keras.models.Sequential([\n",
    "                                      \n",
    "              tf.keras.layers.Conv2D(16, kernel_size=(3, 3), activation='relu', input_shape=(150,150,3)), \n",
    "              tf.keras.layers.MaxPool2D(2,2),\n",
    "\n",
    "              tf.keras.layers.Conv2D(32, kernel_size=(3,3), activation='relu'),\n",
    "              tf.keras.layers.MaxPool2D(2,2),\n",
    "\n",
    "              tf.keras.layers.Conv2D(64, kernel_size=(3,3), activation='relu'),\n",
    "              tf.keras.layers.MaxPool2D(2,2),\n",
    "\n",
    "              tf.keras.layers.Conv2D(128, kernel_size=(3,3), activation='relu'),\n",
    "              tf.keras.layers.MaxPool2D(2,2),\n",
    "\n",
    "              tf.keras.layers.Flatten(),\n",
    "              tf.keras.layers.Dense(512, activation='relu'),\n",
    "              tf.keras.layers.Dense(1, activation='sigmoid')  \n",
    "        ])\n",
    "    \n",
    "    model.compile(optimizer=Adam(learning_rate=0.001), \n",
    "                  loss='binary_crossentropy',\n",
    "                  metrics=['accuracy']) \n",
    "\n",
    "    return model\n"
   ]
  },
  {
   "cell_type": "code",
   "execution_count": 10,
   "id": "87c01f76",
   "metadata": {
    "execution": {
     "iopub.execute_input": "2022-02-19T20:32:49.824109Z",
     "iopub.status.busy": "2022-02-19T20:32:49.823413Z",
     "iopub.status.idle": "2022-02-19T20:32:49.825545Z",
     "shell.execute_reply": "2022-02-19T20:32:49.825916Z",
     "shell.execute_reply.started": "2022-02-19T13:05:28.524631Z"
    },
    "papermill": {
     "duration": 0.020573,
     "end_time": "2022-02-19T20:32:49.826035",
     "exception": false,
     "start_time": "2022-02-19T20:32:49.805462",
     "status": "completed"
    },
    "tags": []
   },
   "outputs": [],
   "source": [
    "def train_val_generators_aug(TRAINING_DIR, VALIDATION_DIR):\n",
    "    \n",
    "    train_datagen_aug = ImageDataGenerator( rescale = 1.0 / 255.,\n",
    "                                        rotation_range=45,\n",
    "                                        width_shift_range=0.25,\n",
    "                                        height_shift_range=0.25,\n",
    "                                        shear_range=0.25,\n",
    "                                        zoom_range=0.25,\n",
    "                                        horizontal_flip=True,\n",
    "                                        fill_mode='nearest')\n",
    "\n",
    "\n",
    "    train_generator_aug = train_datagen_aug.flow_from_directory(directory=TRAINING_DIR,\n",
    "                                                        batch_size=20,\n",
    "                                                        class_mode='binary',\n",
    "                                                        target_size=(150, 150))\n",
    "\n",
    "\n",
    "    validation_datagen_aug = ImageDataGenerator( rescale = 1.0 / 255.)\n",
    "\n",
    "\n",
    "    validation_generator_aug = validation_datagen_aug.flow_from_directory(directory=VALIDATION_DIR,\n",
    "                                                                  batch_size=20,\n",
    "                                                                  class_mode='binary',\n",
    "                                                                  target_size=(150, 150))\n",
    "\n",
    "    return train_generator_aug, validation_generator_aug"
   ]
  },
  {
   "cell_type": "code",
   "execution_count": 11,
   "id": "78554511",
   "metadata": {
    "execution": {
     "iopub.execute_input": "2022-02-19T20:32:49.856459Z",
     "iopub.status.busy": "2022-02-19T20:32:49.855821Z",
     "iopub.status.idle": "2022-02-20T04:01:10.106970Z",
     "shell.execute_reply": "2022-02-20T04:01:10.106487Z"
    },
    "papermill": {
     "duration": 26900.268953,
     "end_time": "2022-02-20T04:01:10.107111",
     "exception": false,
     "start_time": "2022-02-19T20:32:49.838158",
     "status": "completed"
    },
    "tags": []
   },
   "outputs": [
    {
     "name": "stdout",
     "output_type": "stream",
     "text": [
      "Found 22500 images belonging to 2 classes.\n",
      "Found 2500 images belonging to 2 classes.\n"
     ]
    },
    {
     "name": "stderr",
     "output_type": "stream",
     "text": [
      "2022-02-19 20:32:50.612604: I tensorflow/stream_executor/cuda/cuda_gpu_executor.cc:937] successful NUMA node read from SysFS had negative value (-1), but there must be at least one NUMA node, so returning NUMA node zero\n",
      "2022-02-19 20:32:50.721552: I tensorflow/stream_executor/cuda/cuda_gpu_executor.cc:937] successful NUMA node read from SysFS had negative value (-1), but there must be at least one NUMA node, so returning NUMA node zero\n",
      "2022-02-19 20:32:50.722217: I tensorflow/stream_executor/cuda/cuda_gpu_executor.cc:937] successful NUMA node read from SysFS had negative value (-1), but there must be at least one NUMA node, so returning NUMA node zero\n",
      "2022-02-19 20:32:50.723364: I tensorflow/core/platform/cpu_feature_guard.cc:142] This TensorFlow binary is optimized with oneAPI Deep Neural Network Library (oneDNN) to use the following CPU instructions in performance-critical operations:  AVX2 AVX512F FMA\n",
      "To enable them in other operations, rebuild TensorFlow with the appropriate compiler flags.\n",
      "2022-02-19 20:32:50.724229: I tensorflow/stream_executor/cuda/cuda_gpu_executor.cc:937] successful NUMA node read from SysFS had negative value (-1), but there must be at least one NUMA node, so returning NUMA node zero\n",
      "2022-02-19 20:32:50.724879: I tensorflow/stream_executor/cuda/cuda_gpu_executor.cc:937] successful NUMA node read from SysFS had negative value (-1), but there must be at least one NUMA node, so returning NUMA node zero\n",
      "2022-02-19 20:32:50.725501: I tensorflow/stream_executor/cuda/cuda_gpu_executor.cc:937] successful NUMA node read from SysFS had negative value (-1), but there must be at least one NUMA node, so returning NUMA node zero\n",
      "2022-02-19 20:32:52.636081: I tensorflow/stream_executor/cuda/cuda_gpu_executor.cc:937] successful NUMA node read from SysFS had negative value (-1), but there must be at least one NUMA node, so returning NUMA node zero\n",
      "2022-02-19 20:32:52.636971: I tensorflow/stream_executor/cuda/cuda_gpu_executor.cc:937] successful NUMA node read from SysFS had negative value (-1), but there must be at least one NUMA node, so returning NUMA node zero\n",
      "2022-02-19 20:32:52.637633: I tensorflow/stream_executor/cuda/cuda_gpu_executor.cc:937] successful NUMA node read from SysFS had negative value (-1), but there must be at least one NUMA node, so returning NUMA node zero\n",
      "2022-02-19 20:32:52.638205: I tensorflow/core/common_runtime/gpu/gpu_device.cc:1510] Created device /job:localhost/replica:0/task:0/device:GPU:0 with 15403 MB memory:  -> device: 0, name: Tesla P100-PCIE-16GB, pci bus id: 0000:00:04.0, compute capability: 6.0\n",
      "2022-02-19 20:32:53.278804: I tensorflow/compiler/mlir/mlir_graph_optimization_pass.cc:185] None of the MLIR Optimization Passes are enabled (registered 2)\n"
     ]
    },
    {
     "name": "stdout",
     "output_type": "stream",
     "text": [
      "Epoch 1/150\n"
     ]
    },
    {
     "name": "stderr",
     "output_type": "stream",
     "text": [
      "2022-02-19 20:32:55.075405: I tensorflow/stream_executor/cuda/cuda_dnn.cc:369] Loaded cuDNN version 8005\n"
     ]
    },
    {
     "name": "stdout",
     "output_type": "stream",
     "text": [
      "1125/1125 [==============================] - 171s 145ms/step - loss: 0.6739 - accuracy: 0.5659 - val_loss: 0.6452 - val_accuracy: 0.6136\n",
      "Epoch 2/150\n",
      "1125/1125 [==============================] - 164s 146ms/step - loss: 0.6196 - accuracy: 0.6517 - val_loss: 0.5947 - val_accuracy: 0.6684\n",
      "Epoch 3/150\n",
      "1125/1125 [==============================] - 165s 146ms/step - loss: 0.5810 - accuracy: 0.6907 - val_loss: 0.5341 - val_accuracy: 0.7372\n",
      "Epoch 4/150\n",
      "1125/1125 [==============================] - 165s 147ms/step - loss: 0.5630 - accuracy: 0.7075 - val_loss: 0.5311 - val_accuracy: 0.7300\n",
      "Epoch 5/150\n",
      "1125/1125 [==============================] - 167s 148ms/step - loss: 0.5345 - accuracy: 0.7336 - val_loss: 0.4579 - val_accuracy: 0.7840\n",
      "Epoch 6/150\n",
      "1125/1125 [==============================] - 168s 150ms/step - loss: 0.5083 - accuracy: 0.7502 - val_loss: 0.4331 - val_accuracy: 0.8092\n",
      "Epoch 7/150\n",
      "1125/1125 [==============================] - 170s 151ms/step - loss: 0.4791 - accuracy: 0.7688 - val_loss: 0.4275 - val_accuracy: 0.8008\n",
      "Epoch 8/150\n",
      "1125/1125 [==============================] - 170s 151ms/step - loss: 0.4581 - accuracy: 0.7864 - val_loss: 0.4012 - val_accuracy: 0.8236\n",
      "Epoch 9/150\n",
      "1125/1125 [==============================] - 171s 152ms/step - loss: 0.4379 - accuracy: 0.7947 - val_loss: 0.3679 - val_accuracy: 0.8432\n",
      "Epoch 10/150\n",
      "1125/1125 [==============================] - 173s 153ms/step - loss: 0.4211 - accuracy: 0.8063 - val_loss: 0.3551 - val_accuracy: 0.8444\n",
      "Epoch 11/150\n",
      "1125/1125 [==============================] - 173s 154ms/step - loss: 0.3950 - accuracy: 0.8178 - val_loss: 0.3905 - val_accuracy: 0.8240\n",
      "Epoch 12/150\n",
      "1125/1125 [==============================] - 174s 155ms/step - loss: 0.3803 - accuracy: 0.8263 - val_loss: 0.3213 - val_accuracy: 0.8532\n",
      "Epoch 13/150\n",
      "1125/1125 [==============================] - 178s 158ms/step - loss: 0.3702 - accuracy: 0.8304 - val_loss: 0.3175 - val_accuracy: 0.8540\n",
      "Epoch 14/150\n",
      "1125/1125 [==============================] - 171s 152ms/step - loss: 0.3633 - accuracy: 0.8374 - val_loss: 0.2893 - val_accuracy: 0.8816\n",
      "Epoch 15/150\n",
      "1125/1125 [==============================] - 171s 152ms/step - loss: 0.3482 - accuracy: 0.8452 - val_loss: 0.2660 - val_accuracy: 0.8892\n",
      "Epoch 16/150\n",
      "1125/1125 [==============================] - 171s 152ms/step - loss: 0.3436 - accuracy: 0.8480 - val_loss: 0.3039 - val_accuracy: 0.8636\n",
      "Epoch 17/150\n",
      "1125/1125 [==============================] - 169s 150ms/step - loss: 0.3358 - accuracy: 0.8499 - val_loss: 0.3063 - val_accuracy: 0.8648\n",
      "Epoch 18/150\n",
      "1125/1125 [==============================] - 172s 153ms/step - loss: 0.3290 - accuracy: 0.8546 - val_loss: 0.2590 - val_accuracy: 0.8880\n",
      "Epoch 19/150\n",
      "1125/1125 [==============================] - 170s 151ms/step - loss: 0.3269 - accuracy: 0.8573 - val_loss: 0.3453 - val_accuracy: 0.8324\n",
      "Epoch 20/150\n",
      "1125/1125 [==============================] - 175s 156ms/step - loss: 0.3165 - accuracy: 0.8609 - val_loss: 0.2972 - val_accuracy: 0.8644\n",
      "Epoch 21/150\n",
      "1125/1125 [==============================] - 170s 151ms/step - loss: 0.3088 - accuracy: 0.8630 - val_loss: 0.2592 - val_accuracy: 0.8948\n",
      "Epoch 22/150\n",
      "1125/1125 [==============================] - 175s 156ms/step - loss: 0.3089 - accuracy: 0.8632 - val_loss: 0.2228 - val_accuracy: 0.9096\n",
      "Epoch 23/150\n",
      "1125/1125 [==============================] - 170s 151ms/step - loss: 0.3051 - accuracy: 0.8633 - val_loss: 0.2779 - val_accuracy: 0.8780\n",
      "Epoch 24/150\n",
      "1125/1125 [==============================] - 172s 153ms/step - loss: 0.2979 - accuracy: 0.8676 - val_loss: 0.2885 - val_accuracy: 0.8656\n",
      "Epoch 25/150\n",
      "1125/1125 [==============================] - 178s 158ms/step - loss: 0.2948 - accuracy: 0.8696 - val_loss: 0.2278 - val_accuracy: 0.9036\n",
      "Epoch 26/150\n",
      "1125/1125 [==============================] - 174s 154ms/step - loss: 0.2867 - accuracy: 0.8748 - val_loss: 0.2262 - val_accuracy: 0.9064\n",
      "Epoch 27/150\n",
      "1125/1125 [==============================] - 181s 161ms/step - loss: 0.2830 - accuracy: 0.8771 - val_loss: 0.2280 - val_accuracy: 0.9052\n",
      "Epoch 28/150\n",
      "1125/1125 [==============================] - 174s 154ms/step - loss: 0.2835 - accuracy: 0.8742 - val_loss: 0.2399 - val_accuracy: 0.9004\n",
      "Epoch 29/150\n",
      "1125/1125 [==============================] - 182s 161ms/step - loss: 0.2826 - accuracy: 0.8772 - val_loss: 0.2306 - val_accuracy: 0.8964\n",
      "Epoch 30/150\n",
      "1125/1125 [==============================] - 175s 156ms/step - loss: 0.2742 - accuracy: 0.8815 - val_loss: 0.2161 - val_accuracy: 0.9092\n",
      "Epoch 31/150\n",
      "1125/1125 [==============================] - 169s 150ms/step - loss: 0.2794 - accuracy: 0.8760 - val_loss: 0.2089 - val_accuracy: 0.9152\n",
      "Epoch 32/150\n",
      "1125/1125 [==============================] - 168s 149ms/step - loss: 0.2744 - accuracy: 0.8810 - val_loss: 0.2664 - val_accuracy: 0.8848\n",
      "Epoch 33/150\n",
      "1125/1125 [==============================] - 175s 156ms/step - loss: 0.2664 - accuracy: 0.8843 - val_loss: 0.2312 - val_accuracy: 0.8976\n",
      "Epoch 34/150\n",
      "1125/1125 [==============================] - 169s 150ms/step - loss: 0.2628 - accuracy: 0.8844 - val_loss: 0.2426 - val_accuracy: 0.8932\n",
      "Epoch 35/150\n",
      "1125/1125 [==============================] - 170s 151ms/step - loss: 0.2648 - accuracy: 0.8835 - val_loss: 0.1990 - val_accuracy: 0.9176\n",
      "Epoch 36/150\n",
      "1125/1125 [==============================] - 170s 151ms/step - loss: 0.2661 - accuracy: 0.8832 - val_loss: 0.2000 - val_accuracy: 0.9156\n",
      "Epoch 37/150\n",
      "1125/1125 [==============================] - 178s 159ms/step - loss: 0.2555 - accuracy: 0.8888 - val_loss: 0.2094 - val_accuracy: 0.9064\n",
      "Epoch 38/150\n",
      "1125/1125 [==============================] - 170s 151ms/step - loss: 0.2555 - accuracy: 0.8907 - val_loss: 0.2536 - val_accuracy: 0.8872\n",
      "Epoch 39/150\n",
      "1125/1125 [==============================] - 170s 151ms/step - loss: 0.2520 - accuracy: 0.8910 - val_loss: 0.2347 - val_accuracy: 0.9016\n",
      "Epoch 40/150\n",
      "1125/1125 [==============================] - 180s 160ms/step - loss: 0.2518 - accuracy: 0.8901 - val_loss: 0.2083 - val_accuracy: 0.9144\n",
      "Epoch 41/150\n",
      "1125/1125 [==============================] - 171s 152ms/step - loss: 0.2515 - accuracy: 0.8919 - val_loss: 0.2787 - val_accuracy: 0.8808\n",
      "Epoch 42/150\n",
      "1125/1125 [==============================] - 170s 152ms/step - loss: 0.2524 - accuracy: 0.8922 - val_loss: 0.1974 - val_accuracy: 0.9164\n",
      "Epoch 43/150\n",
      "1125/1125 [==============================] - 171s 152ms/step - loss: 0.2436 - accuracy: 0.8943 - val_loss: 0.2058 - val_accuracy: 0.9144\n",
      "Epoch 44/150\n",
      "1125/1125 [==============================] - 180s 160ms/step - loss: 0.2500 - accuracy: 0.8898 - val_loss: 0.1830 - val_accuracy: 0.9240\n",
      "Epoch 45/150\n",
      "1125/1125 [==============================] - 173s 153ms/step - loss: 0.2438 - accuracy: 0.8947 - val_loss: 0.2355 - val_accuracy: 0.8960\n",
      "Epoch 46/150\n",
      "1125/1125 [==============================] - 173s 153ms/step - loss: 0.2502 - accuracy: 0.8902 - val_loss: 0.1724 - val_accuracy: 0.9272\n",
      "Epoch 47/150\n",
      "1125/1125 [==============================] - 172s 153ms/step - loss: 0.2446 - accuracy: 0.8944 - val_loss: 0.1851 - val_accuracy: 0.9196\n",
      "Epoch 48/150\n",
      "1125/1125 [==============================] - 184s 164ms/step - loss: 0.2371 - accuracy: 0.8985 - val_loss: 0.1953 - val_accuracy: 0.9204\n",
      "Epoch 49/150\n",
      "1125/1125 [==============================] - 173s 154ms/step - loss: 0.2415 - accuracy: 0.8952 - val_loss: 0.1952 - val_accuracy: 0.9164\n",
      "Epoch 50/150\n",
      "1125/1125 [==============================] - 174s 155ms/step - loss: 0.2416 - accuracy: 0.8952 - val_loss: 0.2055 - val_accuracy: 0.9164\n",
      "Epoch 51/150\n",
      "1125/1125 [==============================] - 173s 154ms/step - loss: 0.2423 - accuracy: 0.8954 - val_loss: 0.2163 - val_accuracy: 0.9144\n",
      "Epoch 52/150\n",
      "1125/1125 [==============================] - 172s 153ms/step - loss: 0.2347 - accuracy: 0.8990 - val_loss: 0.1952 - val_accuracy: 0.9164\n",
      "Epoch 53/150\n",
      "1125/1125 [==============================] - 173s 154ms/step - loss: 0.2378 - accuracy: 0.8995 - val_loss: 0.1969 - val_accuracy: 0.9144\n",
      "Epoch 54/150\n",
      "1125/1125 [==============================] - 175s 155ms/step - loss: 0.2361 - accuracy: 0.8968 - val_loss: 0.2031 - val_accuracy: 0.9184\n",
      "Epoch 55/150\n",
      "1125/1125 [==============================] - 187s 166ms/step - loss: 0.2334 - accuracy: 0.9032 - val_loss: 0.1693 - val_accuracy: 0.9284\n",
      "Epoch 56/150\n",
      "1125/1125 [==============================] - 174s 155ms/step - loss: 0.2345 - accuracy: 0.8960 - val_loss: 0.2040 - val_accuracy: 0.9160\n",
      "Epoch 57/150\n",
      "1125/1125 [==============================] - 175s 155ms/step - loss: 0.2309 - accuracy: 0.9016 - val_loss: 0.2084 - val_accuracy: 0.9108\n",
      "Epoch 58/150\n",
      "1125/1125 [==============================] - 188s 167ms/step - loss: 0.2286 - accuracy: 0.9023 - val_loss: 0.1575 - val_accuracy: 0.9424\n",
      "Epoch 59/150\n",
      "1125/1125 [==============================] - 161s 143ms/step - loss: 0.2249 - accuracy: 0.9018 - val_loss: 0.1806 - val_accuracy: 0.9220\n",
      "Epoch 60/150\n",
      "1125/1125 [==============================] - 176s 156ms/step - loss: 0.2257 - accuracy: 0.9039 - val_loss: 0.1618 - val_accuracy: 0.9364\n",
      "Epoch 61/150\n",
      "1125/1125 [==============================] - 175s 155ms/step - loss: 0.2247 - accuracy: 0.9051 - val_loss: 0.1647 - val_accuracy: 0.9308\n",
      "Epoch 62/150\n",
      "1125/1125 [==============================] - 161s 143ms/step - loss: 0.2251 - accuracy: 0.9033 - val_loss: 0.1666 - val_accuracy: 0.9324\n",
      "Epoch 63/150\n",
      "1125/1125 [==============================] - 176s 156ms/step - loss: 0.2287 - accuracy: 0.9032 - val_loss: 0.2120 - val_accuracy: 0.9096\n",
      "Epoch 64/150\n",
      "1125/1125 [==============================] - 162s 144ms/step - loss: 0.2201 - accuracy: 0.9036 - val_loss: 0.1655 - val_accuracy: 0.9304\n",
      "Epoch 65/150\n",
      "1125/1125 [==============================] - 176s 157ms/step - loss: 0.2271 - accuracy: 0.9035 - val_loss: 0.1864 - val_accuracy: 0.9188\n",
      "Epoch 66/150\n",
      "1125/1125 [==============================] - 176s 157ms/step - loss: 0.2279 - accuracy: 0.9048 - val_loss: 0.1548 - val_accuracy: 0.9388\n",
      "Epoch 67/150\n",
      "1125/1125 [==============================] - 161s 143ms/step - loss: 0.2245 - accuracy: 0.9040 - val_loss: 0.1951 - val_accuracy: 0.9220\n",
      "Epoch 68/150\n",
      "1125/1125 [==============================] - 177s 157ms/step - loss: 0.2169 - accuracy: 0.9071 - val_loss: 0.1682 - val_accuracy: 0.9316\n",
      "Epoch 69/150\n",
      "1125/1125 [==============================] - 177s 158ms/step - loss: 0.2176 - accuracy: 0.9064 - val_loss: 0.1996 - val_accuracy: 0.9208\n",
      "Epoch 70/150\n",
      "1125/1125 [==============================] - 163s 145ms/step - loss: 0.2189 - accuracy: 0.9076 - val_loss: 0.1588 - val_accuracy: 0.9372\n",
      "Epoch 71/150\n",
      "1125/1125 [==============================] - 174s 155ms/step - loss: 0.2258 - accuracy: 0.9026 - val_loss: 0.1750 - val_accuracy: 0.9296\n",
      "Epoch 72/150\n",
      "1125/1125 [==============================] - 175s 156ms/step - loss: 0.2169 - accuracy: 0.9060 - val_loss: 0.1799 - val_accuracy: 0.9264\n",
      "Epoch 73/150\n",
      "1125/1125 [==============================] - 158s 141ms/step - loss: 0.2206 - accuracy: 0.9070 - val_loss: 0.1832 - val_accuracy: 0.9168\n",
      "Epoch 74/150\n",
      "1125/1125 [==============================] - 176s 156ms/step - loss: 0.2152 - accuracy: 0.9084 - val_loss: 0.1773 - val_accuracy: 0.9256\n",
      "Epoch 75/150\n",
      "1125/1125 [==============================] - 176s 156ms/step - loss: 0.2216 - accuracy: 0.9069 - val_loss: 0.1581 - val_accuracy: 0.9340\n",
      "Epoch 76/150\n",
      "1125/1125 [==============================] - 159s 141ms/step - loss: 0.2131 - accuracy: 0.9087 - val_loss: 0.1877 - val_accuracy: 0.9248\n",
      "Epoch 77/150\n",
      "1125/1125 [==============================] - 177s 158ms/step - loss: 0.2135 - accuracy: 0.9088 - val_loss: 0.1679 - val_accuracy: 0.9332\n",
      "Epoch 78/150\n",
      "1125/1125 [==============================] - 176s 156ms/step - loss: 0.2204 - accuracy: 0.9069 - val_loss: 0.1673 - val_accuracy: 0.9260\n",
      "Epoch 79/150\n",
      "1125/1125 [==============================] - 159s 141ms/step - loss: 0.2133 - accuracy: 0.9088 - val_loss: 0.1703 - val_accuracy: 0.9360\n",
      "Epoch 80/150\n",
      "1125/1125 [==============================] - 177s 157ms/step - loss: 0.2122 - accuracy: 0.9085 - val_loss: 0.1624 - val_accuracy: 0.9280\n",
      "Epoch 81/150\n",
      "1125/1125 [==============================] - 173s 154ms/step - loss: 0.2119 - accuracy: 0.9118 - val_loss: 0.1863 - val_accuracy: 0.9236\n",
      "Epoch 82/150\n",
      "1125/1125 [==============================] - 159s 142ms/step - loss: 0.2155 - accuracy: 0.9089 - val_loss: 0.1560 - val_accuracy: 0.9424\n",
      "Epoch 83/150\n",
      "1125/1125 [==============================] - 179s 159ms/step - loss: 0.2133 - accuracy: 0.9094 - val_loss: 0.1590 - val_accuracy: 0.9336\n",
      "Epoch 84/150\n",
      "1125/1125 [==============================] - 160s 142ms/step - loss: 0.2115 - accuracy: 0.9101 - val_loss: 0.1633 - val_accuracy: 0.9384\n",
      "Epoch 85/150\n",
      "1125/1125 [==============================] - 180s 160ms/step - loss: 0.2142 - accuracy: 0.9094 - val_loss: 0.1603 - val_accuracy: 0.9352\n",
      "Epoch 86/150\n",
      "1125/1125 [==============================] - 179s 159ms/step - loss: 0.2094 - accuracy: 0.9105 - val_loss: 0.1686 - val_accuracy: 0.9304\n",
      "Epoch 87/150\n",
      "1125/1125 [==============================] - 160s 142ms/step - loss: 0.2092 - accuracy: 0.9116 - val_loss: 0.1662 - val_accuracy: 0.9312\n",
      "Epoch 88/150\n",
      "1125/1125 [==============================] - 181s 161ms/step - loss: 0.2115 - accuracy: 0.9105 - val_loss: 0.2128 - val_accuracy: 0.9052\n",
      "Epoch 89/150\n",
      "1125/1125 [==============================] - 158s 140ms/step - loss: 0.2080 - accuracy: 0.9129 - val_loss: 0.1732 - val_accuracy: 0.9320\n",
      "Epoch 90/150\n",
      "1125/1125 [==============================] - 179s 159ms/step - loss: 0.2074 - accuracy: 0.9122 - val_loss: 0.1555 - val_accuracy: 0.9400\n",
      "Epoch 91/150\n",
      "1125/1125 [==============================] - 178s 158ms/step - loss: 0.2127 - accuracy: 0.9100 - val_loss: 0.1582 - val_accuracy: 0.9304\n",
      "Epoch 92/150\n",
      "1125/1125 [==============================] - 158s 140ms/step - loss: 0.2111 - accuracy: 0.9102 - val_loss: 0.1727 - val_accuracy: 0.9344\n",
      "Epoch 93/150\n",
      "1125/1125 [==============================] - 179s 159ms/step - loss: 0.2054 - accuracy: 0.9128 - val_loss: 0.1651 - val_accuracy: 0.9360\n",
      "Epoch 94/150\n",
      "1125/1125 [==============================] - 158s 141ms/step - loss: 0.2054 - accuracy: 0.9133 - val_loss: 0.1507 - val_accuracy: 0.9416\n",
      "Epoch 95/150\n",
      "1125/1125 [==============================] - 180s 160ms/step - loss: 0.2080 - accuracy: 0.9121 - val_loss: 0.1821 - val_accuracy: 0.9268\n",
      "Epoch 96/150\n",
      "1125/1125 [==============================] - 180s 160ms/step - loss: 0.2062 - accuracy: 0.9127 - val_loss: 0.1612 - val_accuracy: 0.9340\n",
      "Epoch 97/150\n",
      "1125/1125 [==============================] - 159s 142ms/step - loss: 0.2075 - accuracy: 0.9110 - val_loss: 0.1619 - val_accuracy: 0.9304\n",
      "Epoch 98/150\n",
      "1125/1125 [==============================] - 181s 161ms/step - loss: 0.2020 - accuracy: 0.9164 - val_loss: 0.1665 - val_accuracy: 0.9372\n",
      "Epoch 99/150\n",
      "1125/1125 [==============================] - 161s 143ms/step - loss: 0.2021 - accuracy: 0.9132 - val_loss: 0.1595 - val_accuracy: 0.9364\n",
      "Epoch 100/150\n",
      "1125/1125 [==============================] - 184s 163ms/step - loss: 0.2066 - accuracy: 0.9138 - val_loss: 0.1609 - val_accuracy: 0.9340\n",
      "Epoch 101/150\n",
      "1125/1125 [==============================] - 181s 161ms/step - loss: 0.2048 - accuracy: 0.9138 - val_loss: 0.1616 - val_accuracy: 0.9344\n",
      "Epoch 102/150\n",
      "1125/1125 [==============================] - 158s 141ms/step - loss: 0.2062 - accuracy: 0.9125 - val_loss: 0.1520 - val_accuracy: 0.9424\n",
      "Epoch 103/150\n",
      "1125/1125 [==============================] - 182s 162ms/step - loss: 0.2038 - accuracy: 0.9136 - val_loss: 0.1748 - val_accuracy: 0.9276\n",
      "Epoch 104/150\n",
      "1125/1125 [==============================] - 159s 141ms/step - loss: 0.1960 - accuracy: 0.9173 - val_loss: 0.1540 - val_accuracy: 0.9384\n",
      "Epoch 105/150\n",
      "1125/1125 [==============================] - 182s 162ms/step - loss: 0.2025 - accuracy: 0.9144 - val_loss: 0.1823 - val_accuracy: 0.9320\n",
      "Epoch 106/150\n",
      "1125/1125 [==============================] - 172s 153ms/step - loss: 0.1964 - accuracy: 0.9146 - val_loss: 0.1471 - val_accuracy: 0.9436\n",
      "Epoch 107/150\n",
      "1125/1125 [==============================] - 159s 142ms/step - loss: 0.2007 - accuracy: 0.9155 - val_loss: 0.1639 - val_accuracy: 0.9352\n",
      "Epoch 108/150\n",
      "1125/1125 [==============================] - 184s 164ms/step - loss: 0.2049 - accuracy: 0.9113 - val_loss: 0.1596 - val_accuracy: 0.9380\n",
      "Epoch 109/150\n",
      "1125/1125 [==============================] - 159s 142ms/step - loss: 0.2000 - accuracy: 0.9153 - val_loss: 0.1731 - val_accuracy: 0.9380\n",
      "Epoch 110/150\n",
      "1125/1125 [==============================] - 188s 167ms/step - loss: 0.1995 - accuracy: 0.9145 - val_loss: 0.1559 - val_accuracy: 0.9412\n",
      "Epoch 111/150\n",
      "1125/1125 [==============================] - 184s 163ms/step - loss: 0.2025 - accuracy: 0.9141 - val_loss: 0.1586 - val_accuracy: 0.9352\n",
      "Epoch 112/150\n",
      "1125/1125 [==============================] - 162s 144ms/step - loss: 0.1962 - accuracy: 0.9176 - val_loss: 0.1530 - val_accuracy: 0.9392\n",
      "Epoch 113/150\n",
      "1125/1125 [==============================] - 185s 164ms/step - loss: 0.1991 - accuracy: 0.9150 - val_loss: 0.1844 - val_accuracy: 0.9272\n",
      "Epoch 114/150\n",
      "1125/1125 [==============================] - 159s 141ms/step - loss: 0.1993 - accuracy: 0.9153 - val_loss: 0.1948 - val_accuracy: 0.9228\n",
      "Epoch 115/150\n",
      "1125/1125 [==============================] - 186s 165ms/step - loss: 0.1968 - accuracy: 0.9167 - val_loss: 0.1742 - val_accuracy: 0.9272\n",
      "Epoch 116/150\n",
      "1125/1125 [==============================] - 166s 148ms/step - loss: 0.2019 - accuracy: 0.9126 - val_loss: 0.1435 - val_accuracy: 0.9404\n",
      "Epoch 117/150\n",
      "1125/1125 [==============================] - 160s 142ms/step - loss: 0.1980 - accuracy: 0.9183 - val_loss: 0.1580 - val_accuracy: 0.9352\n",
      "Epoch 118/150\n",
      "1125/1125 [==============================] - 186s 166ms/step - loss: 0.1987 - accuracy: 0.9169 - val_loss: 0.1682 - val_accuracy: 0.9312\n",
      "Epoch 119/150\n",
      "1125/1125 [==============================] - 159s 142ms/step - loss: 0.1942 - accuracy: 0.9187 - val_loss: 0.1490 - val_accuracy: 0.9400\n",
      "Epoch 120/150\n",
      "1125/1125 [==============================] - 159s 142ms/step - loss: 0.1987 - accuracy: 0.9165 - val_loss: 0.1412 - val_accuracy: 0.9452\n",
      "Epoch 121/150\n",
      "1125/1125 [==============================] - 188s 167ms/step - loss: 0.1958 - accuracy: 0.9188 - val_loss: 0.1770 - val_accuracy: 0.9324\n",
      "Epoch 122/150\n",
      "1125/1125 [==============================] - 159s 141ms/step - loss: 0.1963 - accuracy: 0.9181 - val_loss: 0.1470 - val_accuracy: 0.9368\n",
      "Epoch 123/150\n",
      "1125/1125 [==============================] - 159s 141ms/step - loss: 0.1885 - accuracy: 0.9206 - val_loss: 0.1847 - val_accuracy: 0.9264\n",
      "Epoch 124/150\n",
      "1125/1125 [==============================] - 188s 167ms/step - loss: 0.1945 - accuracy: 0.9184 - val_loss: 0.2088 - val_accuracy: 0.9156\n",
      "Epoch 125/150\n",
      "1125/1125 [==============================] - 159s 142ms/step - loss: 0.1961 - accuracy: 0.9160 - val_loss: 0.1939 - val_accuracy: 0.9268\n",
      "Epoch 126/150\n",
      "1125/1125 [==============================] - 160s 142ms/step - loss: 0.1977 - accuracy: 0.9179 - val_loss: 0.1390 - val_accuracy: 0.9436\n",
      "Epoch 127/150\n",
      "1125/1125 [==============================] - 178s 158ms/step - loss: 0.1892 - accuracy: 0.9218 - val_loss: 0.1738 - val_accuracy: 0.9288\n",
      "Epoch 128/150\n",
      "1125/1125 [==============================] - 172s 153ms/step - loss: 0.1930 - accuracy: 0.9196 - val_loss: 0.1534 - val_accuracy: 0.9440\n",
      "Epoch 129/150\n",
      "1125/1125 [==============================] - 159s 141ms/step - loss: 0.1922 - accuracy: 0.9199 - val_loss: 0.1732 - val_accuracy: 0.9324\n",
      "Epoch 130/150\n",
      "1125/1125 [==============================] - 180s 160ms/step - loss: 0.1939 - accuracy: 0.9185 - val_loss: 0.1514 - val_accuracy: 0.9396\n",
      "Epoch 131/150\n",
      "1125/1125 [==============================] - 169s 150ms/step - loss: 0.1911 - accuracy: 0.9205 - val_loss: 0.1588 - val_accuracy: 0.9384\n",
      "Epoch 132/150\n",
      "1125/1125 [==============================] - 160s 142ms/step - loss: 0.1912 - accuracy: 0.9192 - val_loss: 0.1482 - val_accuracy: 0.9408\n",
      "Epoch 133/150\n",
      "1125/1125 [==============================] - 159s 142ms/step - loss: 0.1922 - accuracy: 0.9189 - val_loss: 0.1628 - val_accuracy: 0.9308\n",
      "Epoch 134/150\n",
      "1125/1125 [==============================] - 190s 169ms/step - loss: 0.1949 - accuracy: 0.9189 - val_loss: 0.1522 - val_accuracy: 0.9364\n",
      "Epoch 135/150\n",
      "1125/1125 [==============================] - 160s 142ms/step - loss: 0.1937 - accuracy: 0.9192 - val_loss: 0.1742 - val_accuracy: 0.9280\n",
      "Epoch 136/150\n",
      "1125/1125 [==============================] - 160s 142ms/step - loss: 0.1916 - accuracy: 0.9173 - val_loss: 0.1468 - val_accuracy: 0.9440\n",
      "Epoch 137/150\n",
      "1125/1125 [==============================] - 193s 172ms/step - loss: 0.1973 - accuracy: 0.9177 - val_loss: 0.1576 - val_accuracy: 0.9428\n",
      "Epoch 138/150\n",
      "1125/1125 [==============================] - 161s 143ms/step - loss: 0.2001 - accuracy: 0.9158 - val_loss: 0.1584 - val_accuracy: 0.9336\n",
      "Epoch 139/150\n",
      "1125/1125 [==============================] - 161s 143ms/step - loss: 0.1900 - accuracy: 0.9208 - val_loss: 0.1869 - val_accuracy: 0.9256\n",
      "Epoch 140/150\n",
      "1125/1125 [==============================] - 194s 172ms/step - loss: 0.1922 - accuracy: 0.9191 - val_loss: 0.1431 - val_accuracy: 0.9404\n",
      "Epoch 141/150\n",
      "1125/1125 [==============================] - 160s 142ms/step - loss: 0.1897 - accuracy: 0.9200 - val_loss: 0.1606 - val_accuracy: 0.9320\n",
      "Epoch 142/150\n",
      "1125/1125 [==============================] - 160s 142ms/step - loss: 0.1927 - accuracy: 0.9179 - val_loss: 0.1381 - val_accuracy: 0.9416\n",
      "Epoch 143/150\n",
      "1125/1125 [==============================] - 185s 165ms/step - loss: 0.1889 - accuracy: 0.9228 - val_loss: 0.1867 - val_accuracy: 0.9196\n",
      "Epoch 144/150\n",
      "1125/1125 [==============================] - 166s 148ms/step - loss: 0.1959 - accuracy: 0.9191 - val_loss: 0.1541 - val_accuracy: 0.9408\n",
      "Epoch 145/150\n",
      "1125/1125 [==============================] - 159s 141ms/step - loss: 0.1888 - accuracy: 0.9199 - val_loss: 0.1687 - val_accuracy: 0.9308\n",
      "Epoch 146/150\n",
      "1125/1125 [==============================] - 194s 173ms/step - loss: 0.1852 - accuracy: 0.9225 - val_loss: 0.1538 - val_accuracy: 0.9404\n",
      "Epoch 147/150\n",
      "1125/1125 [==============================] - 160s 142ms/step - loss: 0.1908 - accuracy: 0.9209 - val_loss: 0.1534 - val_accuracy: 0.9392\n",
      "Epoch 148/150\n",
      "1125/1125 [==============================] - 160s 142ms/step - loss: 0.1897 - accuracy: 0.9215 - val_loss: 0.1453 - val_accuracy: 0.9404\n",
      "Epoch 149/150\n",
      "1125/1125 [==============================] - 181s 161ms/step - loss: 0.1906 - accuracy: 0.9206 - val_loss: 0.1558 - val_accuracy: 0.9384\n",
      "Epoch 150/150\n",
      "1125/1125 [==============================] - 160s 142ms/step - loss: 0.1867 - accuracy: 0.9208 - val_loss: 0.1421 - val_accuracy: 0.9416\n"
     ]
    }
   ],
   "source": [
    "train_generator_aug, validation_generator_aug = train_val_generators_aug(TRAINING_DIR, TESTING_DIR)\n",
    "model_augumented = create_model()\n",
    "callbacks = myCallbacks()\n",
    "history = model_augumented.fit(train_generator_aug,\n",
    "                    epochs=150,\n",
    "                    batch_size=16, # this time batch size was added ver.3 previous stopped on 93% and 89%\n",
    "                    verbose=1,\n",
    "                    validation_data=validation_generator_aug,\n",
    "                    callbacks=[callbacks])"
   ]
  },
  {
   "cell_type": "code",
   "execution_count": 12,
   "id": "ce8b2bce",
   "metadata": {
    "execution": {
     "iopub.execute_input": "2022-02-20T04:02:43.325859Z",
     "iopub.status.busy": "2022-02-20T04:02:43.324960Z",
     "iopub.status.idle": "2022-02-20T04:02:43.781054Z",
     "shell.execute_reply": "2022-02-20T04:02:43.780150Z",
     "shell.execute_reply.started": "2022-02-19T13:03:39.465518Z"
    },
    "papermill": {
     "duration": 47.295331,
     "end_time": "2022-02-20T04:02:43.781178",
     "exception": false,
     "start_time": "2022-02-20T04:01:56.485847",
     "status": "completed"
    },
    "tags": []
   },
   "outputs": [
    {
     "data": {
      "image/png": "[encoded data removed]",
      "text/plain": [
       "<Figure size 432x288 with 1 Axes>"
      ]
     },
     "metadata": {
      "needs_background": "light"
     },
     "output_type": "display_data"
    },
    {
     "name": "stdout",
     "output_type": "stream",
     "text": [
      "\n"
     ]
    },
    {
     "data": {
      "image/png": "[encoded data removed]",
      "text/plain": [
       "<Figure size 432x288 with 1 Axes>"
      ]
     },
     "metadata": {
      "needs_background": "light"
     },
     "output_type": "display_data"
    }
   ],
   "source": [
    "acc_aug=history.history['accuracy']\n",
    "val_acc_aug=history.history['val_accuracy']\n",
    "loss_aug=history.history['loss']\n",
    "val_loss_aug=history.history['val_loss']\n",
    "\n",
    "epochs_aug=range(len(acc_aug)) # Get number of epochs\n",
    "\n",
    "plt.plot(epochs_aug, acc_aug, 'r', \"Training Accuracy\")\n",
    "plt.plot(epochs_aug, val_acc_aug, 'b', \"Validation Accuracy\")\n",
    "plt.title('Training and validation accuracy')\n",
    "plt.show()\n",
    "print(\"\")\n",
    "\n",
    "plt.plot(epochs_aug, loss_aug, 'r', \"Training Loss\")\n",
    "plt.plot(epochs_aug, val_loss_aug, 'b', \"Validation Loss\")\n",
    "plt.show()"
   ]
  }
 ],
 "metadata": {
  "kernelspec": {
   "display_name": "Python 3",
   "language": "python",
   "name": "python3"
  },
  "language_info": {
   "codemirror_mode": {
    "name": "ipython",
    "version": 3
   },
   "file_extension": ".py",
   "mimetype": "text/x-python",
   "name": "python",
   "nbconvert_exporter": "python",
   "pygments_lexer": "ipython3",
   "version": "3.7.12"
  },
  "papermill": {
   "default_parameters": {},
   "duration": 27085.122461,
   "end_time": "2022-02-20T04:03:33.223937",
   "environment_variables": {},
   "exception": null,
   "input_path": "__notebook__.ipynb",
   "output_path": "__notebook__.ipynb",
   "parameters": {},
   "start_time": "2022-02-19T20:32:08.101476",
   "version": "2.3.3"
  }
 },
 "nbformat": 4,
 "nbformat_minor": 5
}
